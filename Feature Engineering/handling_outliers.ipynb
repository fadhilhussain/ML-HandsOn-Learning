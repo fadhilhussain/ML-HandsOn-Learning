{
 "cells": [
  {
   "cell_type": "markdown",
   "id": "431c14e1-6263-4519-b39f-115402c35166",
   "metadata": {},
   "source": [
    "# HANDLING OUTLIERS"
   ]
  },
  {
   "cell_type": "code",
   "execution_count": 36,
   "id": "61f5f045-312a-4426-a01a-5ec4e2224ed3",
   "metadata": {},
   "outputs": [],
   "source": [
    "import pandas as pd\n",
    "import seaborn as sns\n",
    "import numpy as np\n",
    "import matplotlib.pyplot as plt"
   ]
  },
  {
   "cell_type": "code",
   "execution_count": 93,
   "id": "d6ef3aa8-470d-4564-b316-002b48431ce5",
   "metadata": {},
   "outputs": [],
   "source": [
    "marks = [23,34,56,34,76,34,25,56,54,75,80,85,73,45,65,78,34,23,67]"
   ]
  },
  {
   "cell_type": "markdown",
   "id": "e009055b-8285-4a07-851e-04214c5ce8dd",
   "metadata": {},
   "source": [
    "## FIVE NUMBERS"
   ]
  },
  {
   "cell_type": "code",
   "execution_count": 96,
   "id": "25bd7f19-ab8c-4876-9815-f37aa7b99952",
   "metadata": {},
   "outputs": [],
   "source": [
    "minimum,q1,median,q3,maximum = np.quantile(marks,[0,0.25,0.50,0.75,1.0])"
   ]
  },
  {
   "cell_type": "code",
   "execution_count": 98,
   "id": "677eb320-a5b0-44dc-9a31-e8439b3eb05f",
   "metadata": {},
   "outputs": [
    {
     "data": {
      "text/plain": [
       "(23.0, 34.0, 56.0, 74.0, 85.0)"
      ]
     },
     "execution_count": 98,
     "metadata": {},
     "output_type": "execute_result"
    }
   ],
   "source": [
    "minimum,q1,median,q3,maximum"
   ]
  },
  {
   "cell_type": "code",
   "execution_count": 108,
   "id": "1e9bb0ad-c18a-4cb7-a9a9-b9c348aeedd6",
   "metadata": {},
   "outputs": [
    {
     "data": {
      "text/plain": [
       "134.0"
      ]
     },
     "execution_count": 108,
     "metadata": {},
     "output_type": "execute_result"
    }
   ],
   "source": [
    "#computing IQR \n",
    "iqr = q3-q1\n",
    "\n",
    "\n",
    "lower_fence = q1-1.5*(iqr)\n",
    "heigher_fence = q3+1.5*(iqr)\n",
    "\n",
    "heigher_fence"
   ]
  },
  {
   "cell_type": "code",
   "execution_count": 102,
   "id": "630a040c-db34-434c-9ebe-d896c4ccf04b",
   "metadata": {},
   "outputs": [
    {
     "data": {
      "text/plain": [
       "40.0"
      ]
     },
     "execution_count": 102,
     "metadata": {},
     "output_type": "execute_result"
    }
   ],
   "source": [
    "iqr"
   ]
  },
  {
   "cell_type": "code",
   "execution_count": 104,
   "id": "b8beb2bd-7450-45cf-b8d7-24154d7ed5ca",
   "metadata": {},
   "outputs": [
    {
     "data": {
      "text/plain": [
       "<Axes: >"
      ]
     },
     "execution_count": 104,
     "metadata": {},
     "output_type": "execute_result"
    },
    {
     "data": {
      "image/png": "[encoded data removed]",
      "text/plain": [
       "<Figure size 640x480 with 1 Axes>"
      ]
     },
     "metadata": {},
     "output_type": "display_data"
    }
   ],
   "source": [
    "sns.boxplot(marks)"
   ]
  },
  {
   "cell_type": "code",
   "execution_count": 116,
   "id": "5bbe1f87-794b-470f-aeb5-21a1d961069f",
   "metadata": {},
   "outputs": [
    {
     "data": {
      "text/plain": [
       "<Axes: >"
      ]
     },
     "execution_count": 116,
     "metadata": {},
     "output_type": "execute_result"
    },
    {
     "data": {
      "image/png": "[encoded data removed]",
      "text/plain": [
       "<Figure size 640x480 with 1 Axes>"
      ]
     },
     "metadata": {},
     "output_type": "display_data"
    }
   ],
   "source": [
    "marks = [-200,-150,-34,23,34,56,34,76,34,25,56,54,75,80,85,73,45,65,78,34,23,67,112,123,145]\n",
    "sns.boxplot(marks)"
   ]
  },
  {
   "cell_type": "markdown",
   "id": "534508f5-e45e-4178-97ce-4426ca4f0106",
   "metadata": {},
   "source": [
    "## 3-SIGMA TECHNIQUE (STANADERD DEVIATION)"
   ]
  },
  {
   "cell_type": "code",
   "execution_count": 125,
   "id": "0c0ae395-ea62-4340-86fb-977d2315e261",
   "metadata": {},
   "outputs": [],
   "source": [
    "#satyaith patnaik"
   ]
  },
  {
   "cell_type": "code",
   "execution_count": 129,
   "id": "d0faae70-8e3b-4233-873f-3b8b7eddb276",
   "metadata": {},
   "outputs": [
    {
     "data": {
      "text/html": [
       "<div>\n",
       "<style scoped>\n",
       "    .dataframe tbody tr th:only-of-type {\n",
       "        vertical-align: middle;\n",
       "    }\n",
       "\n",
       "    .dataframe tbody tr th {\n",
       "        vertical-align: top;\n",
       "    }\n",
       "\n",
       "    .dataframe thead th {\n",
       "        text-align: right;\n",
       "    }\n",
       "</style>\n",
       "<table border=\"1\" class=\"dataframe\">\n",
       "  <thead>\n",
       "    <tr style=\"text-align: right;\">\n",
       "      <th></th>\n",
       "      <th>Age</th>\n",
       "      <th>Salary</th>\n",
       "      <th>WorkingHours</th>\n",
       "    </tr>\n",
       "  </thead>\n",
       "  <tbody>\n",
       "    <tr>\n",
       "      <th>0</th>\n",
       "      <td>39.967142</td>\n",
       "      <td>33015.551095</td>\n",
       "      <td>41.788937</td>\n",
       "    </tr>\n",
       "    <tr>\n",
       "      <th>1</th>\n",
       "      <td>33.617357</td>\n",
       "      <td>44952.256127</td>\n",
       "      <td>42.803923</td>\n",
       "    </tr>\n",
       "    <tr>\n",
       "      <th>2</th>\n",
       "      <td>41.476885</td>\n",
       "      <td>45887.425802</td>\n",
       "      <td>45.415256</td>\n",
       "    </tr>\n",
       "    <tr>\n",
       "      <th>3</th>\n",
       "      <td>50.230299</td>\n",
       "      <td>40372.672769</td>\n",
       "      <td>45.269010</td>\n",
       "    </tr>\n",
       "    <tr>\n",
       "      <th>4</th>\n",
       "      <td>32.658466</td>\n",
       "      <td>48064.571460</td>\n",
       "      <td>33.111653</td>\n",
       "    </tr>\n",
       "    <tr>\n",
       "      <th>...</th>\n",
       "      <td>...</td>\n",
       "      <td>...</td>\n",
       "      <td>...</td>\n",
       "    </tr>\n",
       "    <tr>\n",
       "      <th>99</th>\n",
       "      <td>32.654129</td>\n",
       "      <td>36284.356426</td>\n",
       "      <td>43.148144</td>\n",
       "    </tr>\n",
       "    <tr>\n",
       "      <th>100</th>\n",
       "      <td>120.000000</td>\n",
       "      <td>150000.000000</td>\n",
       "      <td>80.000000</td>\n",
       "    </tr>\n",
       "    <tr>\n",
       "      <th>101</th>\n",
       "      <td>5.000000</td>\n",
       "      <td>200000.000000</td>\n",
       "      <td>1.000000</td>\n",
       "    </tr>\n",
       "    <tr>\n",
       "      <th>102</th>\n",
       "      <td>100.000000</td>\n",
       "      <td>10.000000</td>\n",
       "      <td>100.000000</td>\n",
       "    </tr>\n",
       "    <tr>\n",
       "      <th>103</th>\n",
       "      <td>3.000000</td>\n",
       "      <td>15.000000</td>\n",
       "      <td>0.000000</td>\n",
       "    </tr>\n",
       "  </tbody>\n",
       "</table>\n",
       "<p>104 rows × 3 columns</p>\n",
       "</div>"
      ],
      "text/plain": [
       "            Age         Salary  WorkingHours\n",
       "0     39.967142   33015.551095     41.788937\n",
       "1     33.617357   44952.256127     42.803923\n",
       "2     41.476885   45887.425802     45.415256\n",
       "3     50.230299   40372.672769     45.269010\n",
       "4     32.658466   48064.571460     33.111653\n",
       "..          ...            ...           ...\n",
       "99    32.654129   36284.356426     43.148144\n",
       "100  120.000000  150000.000000     80.000000\n",
       "101    5.000000  200000.000000      1.000000\n",
       "102  100.000000      10.000000    100.000000\n",
       "103    3.000000      15.000000      0.000000\n",
       "\n",
       "[104 rows x 3 columns]"
      ]
     },
     "execution_count": 129,
     "metadata": {},
     "output_type": "execute_result"
    }
   ],
   "source": [
    "df = pd.read_csv('practice_outliers_dataset.csv')\n",
    "df"
   ]
  },
  {
   "cell_type": "code",
   "execution_count": 131,
   "id": "f3611e11-df11-4e23-b5a1-30d3b92bff48",
   "metadata": {},
   "outputs": [],
   "source": [
    "#defining a function\n",
    "\n",
    "def find_outlier(data):\n",
    "    #definig a list for outlier data\n",
    "    outlier = []\n",
    "    \n",
    "    #define sd and mean  \n",
    "    s_d = np.std(data)\n",
    "    mean_ = np.mean(data)\n",
    "\n",
    "    #define a end peirod \n",
    "    period = s_d*3\n",
    "\n",
    "    #defining two limits \n",
    "    lower_limit = mean_-period\n",
    "    upper_limit =  mean_+period\n",
    "    for outliers in data:\n",
    "        if outliers > upper_limit or outliers < lower_limit:\n",
    "            outlier.append(outliers)\n",
    "    return outlier\n",
    "\n",
    "\n",
    "\n",
    "    \n"
   ]
  },
  {
   "cell_type": "code",
   "execution_count": 170,
   "id": "ef17882b-372e-418f-a9d2-9e0d0b340a95",
   "metadata": {},
   "outputs": [],
   "source": [
    "list = find_outlier(df['Salary'])"
   ]
  },
  {
   "cell_type": "code",
   "execution_count": 172,
   "id": "b974c406-0304-47e9-b8ca-54d4f6935785",
   "metadata": {},
   "outputs": [
    {
     "data": {
      "text/plain": [
       "2"
      ]
     },
     "execution_count": 172,
     "metadata": {},
     "output_type": "execute_result"
    }
   ],
   "source": [
    "len(list)"
   ]
  },
  {
   "cell_type": "code",
   "execution_count": 174,
   "id": "44ce6e06-013b-46fc-9985-b1e5d379a0ca",
   "metadata": {},
   "outputs": [
    {
     "data": {
      "text/plain": [
       "1.2632040512706875"
      ]
     },
     "execution_count": 174,
     "metadata": {},
     "output_type": "execute_result"
    }
   ],
   "source": [
    "#about whether this column is skwed or not \n",
    "df.WorkingHours.skew()"
   ]
  },
  {
   "cell_type": "code",
   "execution_count": 176,
   "id": "be1c161f-e310-4934-8fa0-67af3c1adcf8",
   "metadata": {},
   "outputs": [
    {
     "data": {
      "text/plain": [
       "<Axes: xlabel='Salary', ylabel='Density'>"
      ]
     },
     "execution_count": 176,
     "metadata": {},
     "output_type": "execute_result"
    },
    {
     "data": {
      "image/png": "[encoded data removed]",
      "text/plain": [
       "<Figure size 640x480 with 1 Axes>"
      ]
     },
     "metadata": {},
     "output_type": "display_data"
    }
   ],
   "source": [
    "sns.kdeplot(df['Salary'], fill = True)"
   ]
  },
  {
   "cell_type": "markdown",
   "id": "82f02739-27d1-4cf8-a778-d7deed9793d4",
   "metadata": {},
   "source": [
    "## REMOVING OUTLIER \n",
    "\n",
    "we use np.log() way"
   ]
  },
  {
   "cell_type": "code",
   "execution_count": 196,
   "id": "85ed260b-4532-4604-8b51-88402c96adb5",
   "metadata": {},
   "outputs": [
    {
     "data": {
      "text/plain": [
       "-6.451710774405211"
      ]
     },
     "execution_count": 196,
     "metadata": {},
     "output_type": "execute_result"
    }
   ],
   "source": [
    "df['transformation1'] = np.log(df.Salary)\n",
    "df.transformation1.skew()"
   ]
  },
  {
   "cell_type": "code",
   "execution_count": 198,
   "id": "494c5ffa-4bfb-4b90-a490-807a7d211a01",
   "metadata": {},
   "outputs": [
    {
     "data": {
      "text/plain": [
       "<Axes: ylabel='transformation1'>"
      ]
     },
     "execution_count": 198,
     "metadata": {},
     "output_type": "execute_result"
    },
    {
     "data": {
      "image/png": "[encoded data removed]",
      "text/plain": [
       "<Figure size 640x480 with 1 Axes>"
      ]
     },
     "metadata": {},
     "output_type": "display_data"
    }
   ],
   "source": [
    "sns.boxplot(df['transformation1'])"
   ]
  },
  {
   "cell_type": "code",
   "execution_count": 200,
   "id": "a9886fce-b82a-4186-ae48-7745e862c76b",
   "metadata": {},
   "outputs": [
    {
     "data": {
      "text/plain": [
       "<Axes: xlabel='transformation1', ylabel='Density'>"
      ]
     },
     "execution_count": 200,
     "metadata": {},
     "output_type": "execute_result"
    },
    {
     "data": {
      "image/png": "[encoded data removed]",
      "text/plain": [
       "<Figure size 640x480 with 1 Axes>"
      ]
     },
     "metadata": {},
     "output_type": "display_data"
    }
   ],
   "source": [
    "sns.kdeplot(df['transformation1'], fill = True)"
   ]
  },
  {
   "cell_type": "code",
   "execution_count": 206,
   "id": "c905398f-de48-4ce6-88bc-551847c40fec",
   "metadata": {},
   "outputs": [
    {
     "data": {
      "text/plain": [
       "-6.956237066579151"
      ]
     },
     "execution_count": 206,
     "metadata": {},
     "output_type": "execute_result"
    }
   ],
   "source": [
    "# double log transformation ## data sett aaayitt varnilaaa outlier povnilaa\n",
    "df['transformation2'] = np.log(df.transformation1)\n",
    "df.transformation2.skew()"
   ]
  },
  {
   "cell_type": "code",
   "execution_count": 208,
   "id": "c2a29e23-2a36-47d6-87a0-602ce3f9376f",
   "metadata": {},
   "outputs": [
    {
     "data": {
      "text/plain": [
       "<Axes: ylabel='transformation2'>"
      ]
     },
     "execution_count": 208,
     "metadata": {},
     "output_type": "execute_result"
    },
    {
     "data": {
      "image/png": "[encoded data removed]",
      "text/plain": [
       "<Figure size 640x480 with 1 Axes>"
      ]
     },
     "metadata": {},
     "output_type": "display_data"
    }
   ],
   "source": [
    "sns.boxplot(df['transformation2'])"
   ]
  },
  {
   "cell_type": "code",
   "execution_count": null,
   "id": "b14413fb-32f3-402d-9b85-270c5e25fbb2",
   "metadata": {},
   "outputs": [],
   "source": []
  },
  {
   "cell_type": "code",
   "execution_count": null,
   "id": "616e53bd-9079-4103-aade-c61f77629815",
   "metadata": {},
   "outputs": [],
   "source": []
  }
 ],
 "metadata": {
  "kernelspec": {
   "display_name": "Python 3 (ipykernel)",
   "language": "python",
   "name": "python3"
  },
  "language_info": {
   "codemirror_mode": {
    "name": "ipython",
    "version": 3
   },
   "file_extension": ".py",
   "mimetype": "text/x-python",
   "name": "python",
   "nbconvert_exporter": "python",
   "pygments_lexer": "ipython3",
   "version": "3.12.4"
  }
 },
 "nbformat": 4,
 "nbformat_minor": 5
}
